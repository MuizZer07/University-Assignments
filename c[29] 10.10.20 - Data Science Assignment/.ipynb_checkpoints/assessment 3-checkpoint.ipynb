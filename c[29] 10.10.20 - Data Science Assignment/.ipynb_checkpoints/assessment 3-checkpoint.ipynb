{
 "cells": [
  {
   "cell_type": "code",
   "execution_count": 30,
   "metadata": {},
   "outputs": [],
   "source": [
    "import pandas as pd\n",
    "import matplotlib.pyplot as plt\n",
    "import seaborn as sns\n",
    "import numpy as np\n",
    "\n",
    "from sklearn import preprocessing\n",
    "from sklearn.neighbors import KNeighborsClassifier\n",
    "from sklearn.model_selection import RepeatedStratifiedKFold, cross_val_score, cross_val_predict\n",
    "%matplotlib inline"
   ]
  },
  {
   "cell_type": "code",
   "execution_count": 2,
   "metadata": {},
   "outputs": [],
   "source": [
    "df = pd.read_excel('Abalone Data Set.xlsx', header=None)"
   ]
  },
  {
   "cell_type": "code",
   "execution_count": 3,
   "metadata": {},
   "outputs": [],
   "source": [
    "columns = ['Sex', 'Length', 'Diameter', 'Height', \n",
    "           'Whole weight', 'Shucked weight', 'Viscera weight', \n",
    "           'shell weight', 'Rings']\n",
    "df.columns = columns"
   ]
  },
  {
   "cell_type": "code",
   "execution_count": 4,
   "metadata": {},
   "outputs": [
    {
     "data": {
      "text/html": [
       "<div>\n",
       "<style scoped>\n",
       "    .dataframe tbody tr th:only-of-type {\n",
       "        vertical-align: middle;\n",
       "    }\n",
       "\n",
       "    .dataframe tbody tr th {\n",
       "        vertical-align: top;\n",
       "    }\n",
       "\n",
       "    .dataframe thead th {\n",
       "        text-align: right;\n",
       "    }\n",
       "</style>\n",
       "<table border=\"1\" class=\"dataframe\">\n",
       "  <thead>\n",
       "    <tr style=\"text-align: right;\">\n",
       "      <th></th>\n",
       "      <th>Sex</th>\n",
       "      <th>Length</th>\n",
       "      <th>Diameter</th>\n",
       "      <th>Height</th>\n",
       "      <th>Whole weight</th>\n",
       "      <th>Shucked weight</th>\n",
       "      <th>Viscera weight</th>\n",
       "      <th>shell weight</th>\n",
       "      <th>Rings</th>\n",
       "    </tr>\n",
       "  </thead>\n",
       "  <tbody>\n",
       "    <tr>\n",
       "      <th>0</th>\n",
       "      <td>M</td>\n",
       "      <td>0.455</td>\n",
       "      <td>0.365</td>\n",
       "      <td>0.095</td>\n",
       "      <td>0.5140</td>\n",
       "      <td>0.2245</td>\n",
       "      <td>0.1010</td>\n",
       "      <td>0.150</td>\n",
       "      <td>15</td>\n",
       "    </tr>\n",
       "    <tr>\n",
       "      <th>1</th>\n",
       "      <td>M</td>\n",
       "      <td>0.350</td>\n",
       "      <td>0.265</td>\n",
       "      <td>0.090</td>\n",
       "      <td>0.2255</td>\n",
       "      <td>0.0995</td>\n",
       "      <td>0.0485</td>\n",
       "      <td>0.070</td>\n",
       "      <td>7</td>\n",
       "    </tr>\n",
       "    <tr>\n",
       "      <th>2</th>\n",
       "      <td>F</td>\n",
       "      <td>0.530</td>\n",
       "      <td>0.420</td>\n",
       "      <td>0.135</td>\n",
       "      <td>0.6770</td>\n",
       "      <td>0.2565</td>\n",
       "      <td>0.1415</td>\n",
       "      <td>0.210</td>\n",
       "      <td>9</td>\n",
       "    </tr>\n",
       "    <tr>\n",
       "      <th>3</th>\n",
       "      <td>M</td>\n",
       "      <td>0.440</td>\n",
       "      <td>0.365</td>\n",
       "      <td>0.125</td>\n",
       "      <td>0.5160</td>\n",
       "      <td>0.2155</td>\n",
       "      <td>0.1140</td>\n",
       "      <td>0.155</td>\n",
       "      <td>10</td>\n",
       "    </tr>\n",
       "    <tr>\n",
       "      <th>4</th>\n",
       "      <td>I</td>\n",
       "      <td>0.330</td>\n",
       "      <td>0.255</td>\n",
       "      <td>0.080</td>\n",
       "      <td>0.2050</td>\n",
       "      <td>0.0895</td>\n",
       "      <td>0.0395</td>\n",
       "      <td>0.055</td>\n",
       "      <td>7</td>\n",
       "    </tr>\n",
       "  </tbody>\n",
       "</table>\n",
       "</div>"
      ],
      "text/plain": [
       "  Sex  Length  Diameter  Height  Whole weight  Shucked weight  Viscera weight  \\\n",
       "0   M   0.455     0.365   0.095        0.5140          0.2245          0.1010   \n",
       "1   M   0.350     0.265   0.090        0.2255          0.0995          0.0485   \n",
       "2   F   0.530     0.420   0.135        0.6770          0.2565          0.1415   \n",
       "3   M   0.440     0.365   0.125        0.5160          0.2155          0.1140   \n",
       "4   I   0.330     0.255   0.080        0.2050          0.0895          0.0395   \n",
       "\n",
       "   shell weight  Rings  \n",
       "0         0.150     15  \n",
       "1         0.070      7  \n",
       "2         0.210      9  \n",
       "3         0.155     10  \n",
       "4         0.055      7  "
      ]
     },
     "execution_count": 4,
     "metadata": {},
     "output_type": "execute_result"
    }
   ],
   "source": [
    "df.head()"
   ]
  },
  {
   "cell_type": "code",
   "execution_count": 5,
   "metadata": {},
   "outputs": [
    {
     "name": "stdout",
     "output_type": "stream",
     "text": [
      "This dataset has 4177 observations with 9 features.\n"
     ]
    }
   ],
   "source": [
    "print('This dataset has {} observations with {} features.'.format(df.shape[0], df.shape[1]))"
   ]
  },
  {
   "cell_type": "code",
   "execution_count": 6,
   "metadata": {},
   "outputs": [
    {
     "data": {
      "text/html": [
       "<div>\n",
       "<style scoped>\n",
       "    .dataframe tbody tr th:only-of-type {\n",
       "        vertical-align: middle;\n",
       "    }\n",
       "\n",
       "    .dataframe tbody tr th {\n",
       "        vertical-align: top;\n",
       "    }\n",
       "\n",
       "    .dataframe thead th {\n",
       "        text-align: right;\n",
       "    }\n",
       "</style>\n",
       "<table border=\"1\" class=\"dataframe\">\n",
       "  <thead>\n",
       "    <tr style=\"text-align: right;\">\n",
       "      <th></th>\n",
       "      <th>Length</th>\n",
       "      <th>Diameter</th>\n",
       "      <th>Height</th>\n",
       "      <th>Whole weight</th>\n",
       "      <th>Shucked weight</th>\n",
       "      <th>Viscera weight</th>\n",
       "      <th>shell weight</th>\n",
       "      <th>Rings</th>\n",
       "    </tr>\n",
       "  </thead>\n",
       "  <tbody>\n",
       "    <tr>\n",
       "      <th>count</th>\n",
       "      <td>4177.000000</td>\n",
       "      <td>4177.000000</td>\n",
       "      <td>4177.000000</td>\n",
       "      <td>4177.000000</td>\n",
       "      <td>4177.000000</td>\n",
       "      <td>4177.000000</td>\n",
       "      <td>4177.000000</td>\n",
       "      <td>4177.000000</td>\n",
       "    </tr>\n",
       "    <tr>\n",
       "      <th>mean</th>\n",
       "      <td>0.523992</td>\n",
       "      <td>0.407881</td>\n",
       "      <td>0.139516</td>\n",
       "      <td>0.828742</td>\n",
       "      <td>0.359367</td>\n",
       "      <td>0.180594</td>\n",
       "      <td>0.238831</td>\n",
       "      <td>9.933684</td>\n",
       "    </tr>\n",
       "    <tr>\n",
       "      <th>std</th>\n",
       "      <td>0.120093</td>\n",
       "      <td>0.099240</td>\n",
       "      <td>0.041827</td>\n",
       "      <td>0.490389</td>\n",
       "      <td>0.221963</td>\n",
       "      <td>0.109614</td>\n",
       "      <td>0.139203</td>\n",
       "      <td>3.224169</td>\n",
       "    </tr>\n",
       "    <tr>\n",
       "      <th>min</th>\n",
       "      <td>0.075000</td>\n",
       "      <td>0.055000</td>\n",
       "      <td>0.000000</td>\n",
       "      <td>0.002000</td>\n",
       "      <td>0.001000</td>\n",
       "      <td>0.000500</td>\n",
       "      <td>0.001500</td>\n",
       "      <td>1.000000</td>\n",
       "    </tr>\n",
       "    <tr>\n",
       "      <th>25%</th>\n",
       "      <td>0.450000</td>\n",
       "      <td>0.350000</td>\n",
       "      <td>0.115000</td>\n",
       "      <td>0.441500</td>\n",
       "      <td>0.186000</td>\n",
       "      <td>0.093500</td>\n",
       "      <td>0.130000</td>\n",
       "      <td>8.000000</td>\n",
       "    </tr>\n",
       "    <tr>\n",
       "      <th>50%</th>\n",
       "      <td>0.545000</td>\n",
       "      <td>0.425000</td>\n",
       "      <td>0.140000</td>\n",
       "      <td>0.799500</td>\n",
       "      <td>0.336000</td>\n",
       "      <td>0.171000</td>\n",
       "      <td>0.234000</td>\n",
       "      <td>9.000000</td>\n",
       "    </tr>\n",
       "    <tr>\n",
       "      <th>75%</th>\n",
       "      <td>0.615000</td>\n",
       "      <td>0.480000</td>\n",
       "      <td>0.165000</td>\n",
       "      <td>1.153000</td>\n",
       "      <td>0.502000</td>\n",
       "      <td>0.253000</td>\n",
       "      <td>0.329000</td>\n",
       "      <td>11.000000</td>\n",
       "    </tr>\n",
       "    <tr>\n",
       "      <th>max</th>\n",
       "      <td>0.815000</td>\n",
       "      <td>0.650000</td>\n",
       "      <td>1.130000</td>\n",
       "      <td>2.825500</td>\n",
       "      <td>1.488000</td>\n",
       "      <td>0.760000</td>\n",
       "      <td>1.005000</td>\n",
       "      <td>29.000000</td>\n",
       "    </tr>\n",
       "  </tbody>\n",
       "</table>\n",
       "</div>"
      ],
      "text/plain": [
       "            Length     Diameter       Height  Whole weight  Shucked weight  \\\n",
       "count  4177.000000  4177.000000  4177.000000   4177.000000     4177.000000   \n",
       "mean      0.523992     0.407881     0.139516      0.828742        0.359367   \n",
       "std       0.120093     0.099240     0.041827      0.490389        0.221963   \n",
       "min       0.075000     0.055000     0.000000      0.002000        0.001000   \n",
       "25%       0.450000     0.350000     0.115000      0.441500        0.186000   \n",
       "50%       0.545000     0.425000     0.140000      0.799500        0.336000   \n",
       "75%       0.615000     0.480000     0.165000      1.153000        0.502000   \n",
       "max       0.815000     0.650000     1.130000      2.825500        1.488000   \n",
       "\n",
       "       Viscera weight  shell weight        Rings  \n",
       "count     4177.000000   4177.000000  4177.000000  \n",
       "mean         0.180594      0.238831     9.933684  \n",
       "std          0.109614      0.139203     3.224169  \n",
       "min          0.000500      0.001500     1.000000  \n",
       "25%          0.093500      0.130000     8.000000  \n",
       "50%          0.171000      0.234000     9.000000  \n",
       "75%          0.253000      0.329000    11.000000  \n",
       "max          0.760000      1.005000    29.000000  "
      ]
     },
     "execution_count": 6,
     "metadata": {},
     "output_type": "execute_result"
    }
   ],
   "source": [
    "df.describe()"
   ]
  },
  {
   "cell_type": "code",
   "execution_count": 7,
   "metadata": {},
   "outputs": [
    {
     "data": {
      "text/plain": [
       "array([[<matplotlib.axes._subplots.AxesSubplot object at 0x000001CA5CCC9400>,\n",
       "        <matplotlib.axes._subplots.AxesSubplot object at 0x000001CA5CDAA630>,\n",
       "        <matplotlib.axes._subplots.AxesSubplot object at 0x000001CA5CE0C898>,\n",
       "        <matplotlib.axes._subplots.AxesSubplot object at 0x000001CA5CDDCB00>],\n",
       "       [<matplotlib.axes._subplots.AxesSubplot object at 0x000001CA5D097D68>,\n",
       "        <matplotlib.axes._subplots.AxesSubplot object at 0x000001CA5D0BFFD0>,\n",
       "        <matplotlib.axes._subplots.AxesSubplot object at 0x000001CA5D0EE278>,\n",
       "        <matplotlib.axes._subplots.AxesSubplot object at 0x000001CA5D115550>]],\n",
       "      dtype=object)"
      ]
     },
     "execution_count": 7,
     "metadata": {},
     "output_type": "execute_result"
    },
    {
     "data": {
      "image/png": "[encoded data removed]",
      "text/plain": [
       "<Figure size 1440x720 with 8 Axes>"
      ]
     },
     "metadata": {
      "needs_background": "light"
     },
     "output_type": "display_data"
    }
   ],
   "source": [
    "df.hist(figsize=(20,10), grid=False, layout=(2, 4), bins = 30)"
   ]
  },
  {
   "cell_type": "code",
   "execution_count": 8,
   "metadata": {},
   "outputs": [
    {
     "data": {
      "text/plain": [
       "Sex               0\n",
       "Length            0\n",
       "Diameter          0\n",
       "Height            0\n",
       "Whole weight      0\n",
       "Shucked weight    0\n",
       "Viscera weight    0\n",
       "shell weight      0\n",
       "Rings             0\n",
       "dtype: int64"
      ]
     },
     "execution_count": 8,
     "metadata": {},
     "output_type": "execute_result"
    }
   ],
   "source": [
    "df.isnull().sum(axis=0)"
   ]
  },
  {
   "cell_type": "code",
   "execution_count": 20,
   "metadata": {},
   "outputs": [],
   "source": [
    "all_features = df.drop(columns=\"Rings\")\n",
    "target = df['Rings']"
   ]
  },
  {
   "cell_type": "code",
   "execution_count": 21,
   "metadata": {},
   "outputs": [
    {
     "data": {
      "text/plain": [
       "Index(['Length', 'Diameter', 'Height', 'Whole weight', 'Shucked weight',\n",
       "       'Viscera weight', 'shell weight', 'Sex_F', 'Sex_I', 'Sex_M'],\n",
       "      dtype='object')"
      ]
     },
     "execution_count": 21,
     "metadata": {},
     "output_type": "execute_result"
    }
   ],
   "source": [
    "all_features = pd.get_dummies(abl_all)\n",
    "all_features.columns"
   ]
  },
  {
   "cell_type": "code",
   "execution_count": 22,
   "metadata": {},
   "outputs": [],
   "source": [
    "abl_unscaled=all_features.values\n",
    "abl_minmax = preprocessing.MinMaxScaler().fit_transform(abl_unscaled)"
   ]
  },
  {
   "cell_type": "code",
   "execution_count": 23,
   "metadata": {},
   "outputs": [],
   "source": [
    "clf = KNeighborsClassifier(n_neighbors=1)"
   ]
  },
  {
   "cell_type": "code",
   "execution_count": 24,
   "metadata": {},
   "outputs": [],
   "source": [
    "cv_method = RepeatedStratifiedKFold(n_splits=5,\n",
    " n_repeats=3,\n",
    " random_state=999)"
   ]
  },
  {
   "cell_type": "code",
   "execution_count": 25,
   "metadata": {},
   "outputs": [
    {
     "name": "stderr",
     "output_type": "stream",
     "text": [
      "C:\\ProgramData\\Anaconda3\\lib\\site-packages\\sklearn\\model_selection\\_split.py:652: Warning: The least populated class in y has only 1 members, which is too few. The minimum number of members in any class cannot be less than n_splits=5.\n",
      "  % (min_groups, self.n_splits)), Warning)\n",
      "C:\\ProgramData\\Anaconda3\\lib\\site-packages\\sklearn\\model_selection\\_split.py:652: Warning: The least populated class in y has only 1 members, which is too few. The minimum number of members in any class cannot be less than n_splits=5.\n",
      "  % (min_groups, self.n_splits)), Warning)\n",
      "C:\\ProgramData\\Anaconda3\\lib\\site-packages\\sklearn\\model_selection\\_split.py:652: Warning: The least populated class in y has only 1 members, which is too few. The minimum number of members in any class cannot be less than n_splits=5.\n",
      "  % (min_groups, self.n_splits)), Warning)\n"
     ]
    }
   ],
   "source": [
    "scoring_metric = 'accuracy'\n",
    "cv_results_full = cross_val_score(estimator=clf,\n",
    " X=abl_minmax,\n",
    " y=target,\n",
    " cv=cv_method,\n",
    " scoring=scoring_metric)\n"
   ]
  },
  {
   "cell_type": "code",
   "execution_count": 26,
   "metadata": {},
   "outputs": [
    {
     "data": {
      "text/plain": [
       "array([0.1964497 , 0.21190476, 0.2011976 , 0.20843373, 0.18016929,\n",
       "       0.20236686, 0.21309524, 0.1882494 , 0.20528211, 0.21090909,\n",
       "       0.18623962, 0.20570749, 0.21052632, 0.20192308, 0.22181818])"
      ]
     },
     "execution_count": 26,
     "metadata": {},
     "output_type": "execute_result"
    }
   ],
   "source": [
    "cv_results_full"
   ]
  },
  {
   "cell_type": "code",
   "execution_count": 27,
   "metadata": {},
   "outputs": [
    {
     "data": {
      "text/plain": [
       "0.203"
      ]
     },
     "execution_count": 27,
     "metadata": {},
     "output_type": "execute_result"
    }
   ],
   "source": [
    "cv_results_full.mean().round(4)"
   ]
  },
  {
   "cell_type": "code",
   "execution_count": 38,
   "metadata": {},
   "outputs": [
    {
     "name": "stderr",
     "output_type": "stream",
     "text": [
      "C:\\ProgramData\\Anaconda3\\lib\\site-packages\\sklearn\\model_selection\\_split.py:652: Warning: The least populated class in y has only 1 members, which is too few. The minimum number of members in any class cannot be less than n_splits=3.\n",
      "  % (min_groups, self.n_splits)), Warning)\n"
     ]
    }
   ],
   "source": [
    "y_pred = cross_val_predict(clf, X=abl_minmax[:20], y=target[:20], cv=3)"
   ]
  },
  {
   "cell_type": "code",
   "execution_count": 49,
   "metadata": {},
   "outputs": [
    {
     "name": "stdout",
     "output_type": "stream",
     "text": [
      "Length\tDiameter\tHeight\tWhole weight\tShucked weight\tViscera weight\tshell weight\tSex_F\tSex_I\tSex_M\t\n",
      "[0.51351351 0.5210084  0.0840708  0.18133522 0.15030262 0.1323239\n",
      " 0.14798206 0.         0.         1.        ]\t[0.37162162 0.35294118 0.07964602 0.07915707 0.06624075 0.06319947\n",
      " 0.06826109 0.         0.         1.        ]\t[0.61486486 0.61344538 0.11946903 0.23906499 0.17182246 0.18564845\n",
      " 0.2077728  1.         0.         0.        ]\t[0.49324324 0.5210084  0.11061947 0.18204356 0.14425017 0.14944042\n",
      " 0.15296462 0.         0.         1.        ]\t[0.34459459 0.33613445 0.07079646 0.07189658 0.0595158  0.05134957\n",
      " 0.0533134  0.         1.         0.        ]\t[0.47297297 0.41176471 0.0840708  0.12378254 0.09414929 0.10138249\n",
      " 0.1180867  0.         1.         0.        ]\t[0.61486486 0.60504202 0.13274336 0.27465911 0.15870881 0.18564845\n",
      " 0.32735426 1.         0.         0.        ]\t[0.63513514 0.62184874 0.11061947 0.27129449 0.19704102 0.1961817\n",
      " 0.25759841 1.         0.         0.        ]\t[0.54054054 0.52941176 0.11061947 0.17974146 0.14492266 0.14746544\n",
      " 0.16292975 0.         0.         1.        ]\t[0.64189189 0.64705882 0.13274336 0.31609704 0.21082717 0.19815668\n",
      " 0.31738914 1.         0.         0.        ]\t 15 9\n",
      "[0.51351351 0.5210084  0.0840708  0.18133522 0.15030262 0.1323239\n",
      " 0.14798206 0.         0.         1.        ]\t[0.37162162 0.35294118 0.07964602 0.07915707 0.06624075 0.06319947\n",
      " 0.06826109 0.         0.         1.        ]\t[0.61486486 0.61344538 0.11946903 0.23906499 0.17182246 0.18564845\n",
      " 0.2077728  1.         0.         0.        ]\t[0.49324324 0.5210084  0.11061947 0.18204356 0.14425017 0.14944042\n",
      " 0.15296462 0.         0.         1.        ]\t[0.34459459 0.33613445 0.07079646 0.07189658 0.0595158  0.05134957\n",
      " 0.0533134  0.         1.         0.        ]\t[0.47297297 0.41176471 0.0840708  0.12378254 0.09414929 0.10138249\n",
      " 0.1180867  0.         1.         0.        ]\t[0.61486486 0.60504202 0.13274336 0.27465911 0.15870881 0.18564845\n",
      " 0.32735426 1.         0.         0.        ]\t[0.63513514 0.62184874 0.11061947 0.27129449 0.19704102 0.1961817\n",
      " 0.25759841 1.         0.         0.        ]\t[0.54054054 0.52941176 0.11061947 0.17974146 0.14492266 0.14746544\n",
      " 0.16292975 0.         0.         1.        ]\t[0.64189189 0.64705882 0.13274336 0.31609704 0.21082717 0.19815668\n",
      " 0.31738914 1.         0.         0.        ]\t 7 7\n",
      "[0.51351351 0.5210084  0.0840708  0.18133522 0.15030262 0.1323239\n",
      " 0.14798206 0.         0.         1.        ]\t[0.37162162 0.35294118 0.07964602 0.07915707 0.06624075 0.06319947\n",
      " 0.06826109 0.         0.         1.        ]\t[0.61486486 0.61344538 0.11946903 0.23906499 0.17182246 0.18564845\n",
      " 0.2077728  1.         0.         0.        ]\t[0.49324324 0.5210084  0.11061947 0.18204356 0.14425017 0.14944042\n",
      " 0.15296462 0.         0.         1.        ]\t[0.34459459 0.33613445 0.07079646 0.07189658 0.0595158  0.05134957\n",
      " 0.0533134  0.         1.         0.        ]\t[0.47297297 0.41176471 0.0840708  0.12378254 0.09414929 0.10138249\n",
      " 0.1180867  0.         1.         0.        ]\t[0.61486486 0.60504202 0.13274336 0.27465911 0.15870881 0.18564845\n",
      " 0.32735426 1.         0.         0.        ]\t[0.63513514 0.62184874 0.11061947 0.27129449 0.19704102 0.1961817\n",
      " 0.25759841 1.         0.         0.        ]\t[0.54054054 0.52941176 0.11061947 0.17974146 0.14492266 0.14746544\n",
      " 0.16292975 0.         0.         1.        ]\t[0.64189189 0.64705882 0.13274336 0.31609704 0.21082717 0.19815668\n",
      " 0.31738914 1.         0.         0.        ]\t 9 10\n",
      "[0.51351351 0.5210084  0.0840708  0.18133522 0.15030262 0.1323239\n",
      " 0.14798206 0.         0.         1.        ]\t[0.37162162 0.35294118 0.07964602 0.07915707 0.06624075 0.06319947\n",
      " 0.06826109 0.         0.         1.        ]\t[0.61486486 0.61344538 0.11946903 0.23906499 0.17182246 0.18564845\n",
      " 0.2077728  1.         0.         0.        ]\t[0.49324324 0.5210084  0.11061947 0.18204356 0.14425017 0.14944042\n",
      " 0.15296462 0.         0.         1.        ]\t[0.34459459 0.33613445 0.07079646 0.07189658 0.0595158  0.05134957\n",
      " 0.0533134  0.         1.         0.        ]\t[0.47297297 0.41176471 0.0840708  0.12378254 0.09414929 0.10138249\n",
      " 0.1180867  0.         1.         0.        ]\t[0.61486486 0.60504202 0.13274336 0.27465911 0.15870881 0.18564845\n",
      " 0.32735426 1.         0.         0.        ]\t[0.63513514 0.62184874 0.11061947 0.27129449 0.19704102 0.1961817\n",
      " 0.25759841 1.         0.         0.        ]\t[0.54054054 0.52941176 0.11061947 0.17974146 0.14492266 0.14746544\n",
      " 0.16292975 0.         0.         1.        ]\t[0.64189189 0.64705882 0.13274336 0.31609704 0.21082717 0.19815668\n",
      " 0.31738914 1.         0.         0.        ]\t 10 9\n",
      "[0.51351351 0.5210084  0.0840708  0.18133522 0.15030262 0.1323239\n",
      " 0.14798206 0.         0.         1.        ]\t[0.37162162 0.35294118 0.07964602 0.07915707 0.06624075 0.06319947\n",
      " 0.06826109 0.         0.         1.        ]\t[0.61486486 0.61344538 0.11946903 0.23906499 0.17182246 0.18564845\n",
      " 0.2077728  1.         0.         0.        ]\t[0.49324324 0.5210084  0.11061947 0.18204356 0.14425017 0.14944042\n",
      " 0.15296462 0.         0.         1.        ]\t[0.34459459 0.33613445 0.07079646 0.07189658 0.0595158  0.05134957\n",
      " 0.0533134  0.         1.         0.        ]\t[0.47297297 0.41176471 0.0840708  0.12378254 0.09414929 0.10138249\n",
      " 0.1180867  0.         1.         0.        ]\t[0.61486486 0.60504202 0.13274336 0.27465911 0.15870881 0.18564845\n",
      " 0.32735426 1.         0.         0.        ]\t[0.63513514 0.62184874 0.11061947 0.27129449 0.19704102 0.1961817\n",
      " 0.25759841 1.         0.         0.        ]\t[0.54054054 0.52941176 0.11061947 0.17974146 0.14492266 0.14746544\n",
      " 0.16292975 0.         0.         1.        ]\t[0.64189189 0.64705882 0.13274336 0.31609704 0.21082717 0.19815668\n",
      " 0.31738914 1.         0.         0.        ]\t 7 7\n",
      "[0.51351351 0.5210084  0.0840708  0.18133522 0.15030262 0.1323239\n",
      " 0.14798206 0.         0.         1.        ]\t[0.37162162 0.35294118 0.07964602 0.07915707 0.06624075 0.06319947\n",
      " 0.06826109 0.         0.         1.        ]\t[0.61486486 0.61344538 0.11946903 0.23906499 0.17182246 0.18564845\n",
      " 0.2077728  1.         0.         0.        ]\t[0.49324324 0.5210084  0.11061947 0.18204356 0.14425017 0.14944042\n",
      " 0.15296462 0.         0.         1.        ]\t[0.34459459 0.33613445 0.07079646 0.07189658 0.0595158  0.05134957\n",
      " 0.0533134  0.         1.         0.        ]\t[0.47297297 0.41176471 0.0840708  0.12378254 0.09414929 0.10138249\n",
      " 0.1180867  0.         1.         0.        ]\t[0.61486486 0.60504202 0.13274336 0.27465911 0.15870881 0.18564845\n",
      " 0.32735426 1.         0.         0.        ]\t[0.63513514 0.62184874 0.11061947 0.27129449 0.19704102 0.1961817\n",
      " 0.25759841 1.         0.         0.        ]\t[0.54054054 0.52941176 0.11061947 0.17974146 0.14492266 0.14746544\n",
      " 0.16292975 0.         0.         1.        ]\t[0.64189189 0.64705882 0.13274336 0.31609704 0.21082717 0.19815668\n",
      " 0.31738914 1.         0.         0.        ]\t 8 7\n",
      "[0.51351351 0.5210084  0.0840708  0.18133522 0.15030262 0.1323239\n",
      " 0.14798206 0.         0.         1.        ]\t[0.37162162 0.35294118 0.07964602 0.07915707 0.06624075 0.06319947\n",
      " 0.06826109 0.         0.         1.        ]\t[0.61486486 0.61344538 0.11946903 0.23906499 0.17182246 0.18564845\n",
      " 0.2077728  1.         0.         0.        ]\t[0.49324324 0.5210084  0.11061947 0.18204356 0.14425017 0.14944042\n",
      " 0.15296462 0.         0.         1.        ]\t[0.34459459 0.33613445 0.07079646 0.07189658 0.0595158  0.05134957\n",
      " 0.0533134  0.         1.         0.        ]\t[0.47297297 0.41176471 0.0840708  0.12378254 0.09414929 0.10138249\n",
      " 0.1180867  0.         1.         0.        ]\t[0.61486486 0.60504202 0.13274336 0.27465911 0.15870881 0.18564845\n",
      " 0.32735426 1.         0.         0.        ]\t[0.63513514 0.62184874 0.11061947 0.27129449 0.19704102 0.1961817\n",
      " 0.25759841 1.         0.         0.        ]\t[0.54054054 0.52941176 0.11061947 0.17974146 0.14492266 0.14746544\n",
      " 0.16292975 0.         0.         1.        ]\t[0.64189189 0.64705882 0.13274336 0.31609704 0.21082717 0.19815668\n",
      " 0.31738914 1.         0.         0.        ]\t 20 10\n",
      "[0.51351351 0.5210084  0.0840708  0.18133522 0.15030262 0.1323239\n",
      " 0.14798206 0.         0.         1.        ]\t[0.37162162 0.35294118 0.07964602 0.07915707 0.06624075 0.06319947\n",
      " 0.06826109 0.         0.         1.        ]\t[0.61486486 0.61344538 0.11946903 0.23906499 0.17182246 0.18564845\n",
      " 0.2077728  1.         0.         0.        ]\t[0.49324324 0.5210084  0.11061947 0.18204356 0.14425017 0.14944042\n",
      " 0.15296462 0.         0.         1.        ]\t[0.34459459 0.33613445 0.07079646 0.07189658 0.0595158  0.05134957\n",
      " 0.0533134  0.         1.         0.        ]\t[0.47297297 0.41176471 0.0840708  0.12378254 0.09414929 0.10138249\n",
      " 0.1180867  0.         1.         0.        ]\t[0.61486486 0.60504202 0.13274336 0.27465911 0.15870881 0.18564845\n",
      " 0.32735426 1.         0.         0.        ]\t[0.63513514 0.62184874 0.11061947 0.27129449 0.19704102 0.1961817\n",
      " 0.25759841 1.         0.         0.        ]\t[0.54054054 0.52941176 0.11061947 0.17974146 0.14492266 0.14746544\n",
      " 0.16292975 0.         0.         1.        ]\t[0.64189189 0.64705882 0.13274336 0.31609704 0.21082717 0.19815668\n",
      " 0.31738914 1.         0.         0.        ]\t 16 10\n",
      "[0.51351351 0.5210084  0.0840708  0.18133522 0.15030262 0.1323239\n",
      " 0.14798206 0.         0.         1.        ]\t[0.37162162 0.35294118 0.07964602 0.07915707 0.06624075 0.06319947\n",
      " 0.06826109 0.         0.         1.        ]\t[0.61486486 0.61344538 0.11946903 0.23906499 0.17182246 0.18564845\n",
      " 0.2077728  1.         0.         0.        ]\t[0.49324324 0.5210084  0.11061947 0.18204356 0.14425017 0.14944042\n",
      " 0.15296462 0.         0.         1.        ]\t[0.34459459 0.33613445 0.07079646 0.07189658 0.0595158  0.05134957\n",
      " 0.0533134  0.         1.         0.        ]\t[0.47297297 0.41176471 0.0840708  0.12378254 0.09414929 0.10138249\n",
      " 0.1180867  0.         1.         0.        ]\t[0.61486486 0.60504202 0.13274336 0.27465911 0.15870881 0.18564845\n",
      " 0.32735426 1.         0.         0.        ]\t[0.63513514 0.62184874 0.11061947 0.27129449 0.19704102 0.1961817\n",
      " 0.25759841 1.         0.         0.        ]\t[0.54054054 0.52941176 0.11061947 0.17974146 0.14492266 0.14746544\n",
      " 0.16292975 0.         0.         1.        ]\t[0.64189189 0.64705882 0.13274336 0.31609704 0.21082717 0.19815668\n",
      " 0.31738914 1.         0.         0.        ]\t 9 15\n",
      "[0.51351351 0.5210084  0.0840708  0.18133522 0.15030262 0.1323239\n",
      " 0.14798206 0.         0.         1.        ]\t[0.37162162 0.35294118 0.07964602 0.07915707 0.06624075 0.06319947\n",
      " 0.06826109 0.         0.         1.        ]\t[0.61486486 0.61344538 0.11946903 0.23906499 0.17182246 0.18564845\n",
      " 0.2077728  1.         0.         0.        ]\t[0.49324324 0.5210084  0.11061947 0.18204356 0.14425017 0.14944042\n",
      " 0.15296462 0.         0.         1.        ]\t[0.34459459 0.33613445 0.07079646 0.07189658 0.0595158  0.05134957\n",
      " 0.0533134  0.         1.         0.        ]\t[0.47297297 0.41176471 0.0840708  0.12378254 0.09414929 0.10138249\n",
      " 0.1180867  0.         1.         0.        ]\t[0.61486486 0.60504202 0.13274336 0.27465911 0.15870881 0.18564845\n",
      " 0.32735426 1.         0.         0.        ]\t[0.63513514 0.62184874 0.11061947 0.27129449 0.19704102 0.1961817\n",
      " 0.25759841 1.         0.         0.        ]\t[0.54054054 0.52941176 0.11061947 0.17974146 0.14492266 0.14746544\n",
      " 0.16292975 0.         0.         1.        ]\t[0.64189189 0.64705882 0.13274336 0.31609704 0.21082717 0.19815668\n",
      " 0.31738914 1.         0.         0.        ]\t 19 10\n",
      "[0.51351351 0.5210084  0.0840708  0.18133522 0.15030262 0.1323239\n",
      " 0.14798206 0.         0.         1.        ]\t[0.37162162 0.35294118 0.07964602 0.07915707 0.06624075 0.06319947\n",
      " 0.06826109 0.         0.         1.        ]\t[0.61486486 0.61344538 0.11946903 0.23906499 0.17182246 0.18564845\n",
      " 0.2077728  1.         0.         0.        ]\t[0.49324324 0.5210084  0.11061947 0.18204356 0.14425017 0.14944042\n",
      " 0.15296462 0.         0.         1.        ]\t[0.34459459 0.33613445 0.07079646 0.07189658 0.0595158  0.05134957\n",
      " 0.0533134  0.         1.         0.        ]\t[0.47297297 0.41176471 0.0840708  0.12378254 0.09414929 0.10138249\n",
      " 0.1180867  0.         1.         0.        ]\t[0.61486486 0.60504202 0.13274336 0.27465911 0.15870881 0.18564845\n",
      " 0.32735426 1.         0.         0.        ]\t[0.63513514 0.62184874 0.11061947 0.27129449 0.19704102 0.1961817\n",
      " 0.25759841 1.         0.         0.        ]\t[0.54054054 0.52941176 0.11061947 0.17974146 0.14492266 0.14746544\n",
      " 0.16292975 0.         0.         1.        ]\t[0.64189189 0.64705882 0.13274336 0.31609704 0.21082717 0.19815668\n",
      " 0.31738914 1.         0.         0.        ]\t 14 10\n",
      "[0.51351351 0.5210084  0.0840708  0.18133522 0.15030262 0.1323239\n",
      " 0.14798206 0.         0.         1.        ]\t[0.37162162 0.35294118 0.07964602 0.07915707 0.06624075 0.06319947\n",
      " 0.06826109 0.         0.         1.        ]\t[0.61486486 0.61344538 0.11946903 0.23906499 0.17182246 0.18564845\n",
      " 0.2077728  1.         0.         0.        ]\t[0.49324324 0.5210084  0.11061947 0.18204356 0.14425017 0.14944042\n",
      " 0.15296462 0.         0.         1.        ]\t[0.34459459 0.33613445 0.07079646 0.07189658 0.0595158  0.05134957\n",
      " 0.0533134  0.         1.         0.        ]\t[0.47297297 0.41176471 0.0840708  0.12378254 0.09414929 0.10138249\n",
      " 0.1180867  0.         1.         0.        ]\t[0.61486486 0.60504202 0.13274336 0.27465911 0.15870881 0.18564845\n",
      " 0.32735426 1.         0.         0.        ]\t[0.63513514 0.62184874 0.11061947 0.27129449 0.19704102 0.1961817\n",
      " 0.25759841 1.         0.         0.        ]\t[0.54054054 0.52941176 0.11061947 0.17974146 0.14492266 0.14746544\n",
      " 0.16292975 0.         0.         1.        ]\t[0.64189189 0.64705882 0.13274336 0.31609704 0.21082717 0.19815668\n",
      " 0.31738914 1.         0.         0.        ]\t 10 9\n",
      "[0.51351351 0.5210084  0.0840708  0.18133522 0.15030262 0.1323239\n",
      " 0.14798206 0.         0.         1.        ]\t[0.37162162 0.35294118 0.07964602 0.07915707 0.06624075 0.06319947\n",
      " 0.06826109 0.         0.         1.        ]\t[0.61486486 0.61344538 0.11946903 0.23906499 0.17182246 0.18564845\n",
      " 0.2077728  1.         0.         0.        ]\t[0.49324324 0.5210084  0.11061947 0.18204356 0.14425017 0.14944042\n",
      " 0.15296462 0.         0.         1.        ]\t[0.34459459 0.33613445 0.07079646 0.07189658 0.0595158  0.05134957\n",
      " 0.0533134  0.         1.         0.        ]\t[0.47297297 0.41176471 0.0840708  0.12378254 0.09414929 0.10138249\n",
      " 0.1180867  0.         1.         0.        ]\t[0.61486486 0.60504202 0.13274336 0.27465911 0.15870881 0.18564845\n",
      " 0.32735426 1.         0.         0.        ]\t[0.63513514 0.62184874 0.11061947 0.27129449 0.19704102 0.1961817\n",
      " 0.25759841 1.         0.         0.        ]\t[0.54054054 0.52941176 0.11061947 0.17974146 0.14492266 0.14746544\n",
      " 0.16292975 0.         0.         1.        ]\t[0.64189189 0.64705882 0.13274336 0.31609704 0.21082717 0.19815668\n",
      " 0.31738914 1.         0.         0.        ]\t 11 9\n",
      "[0.51351351 0.5210084  0.0840708  0.18133522 0.15030262 0.1323239\n",
      " 0.14798206 0.         0.         1.        ]\t[0.37162162 0.35294118 0.07964602 0.07915707 0.06624075 0.06319947\n",
      " 0.06826109 0.         0.         1.        ]\t[0.61486486 0.61344538 0.11946903 0.23906499 0.17182246 0.18564845\n",
      " 0.2077728  1.         0.         0.        ]\t[0.49324324 0.5210084  0.11061947 0.18204356 0.14425017 0.14944042\n",
      " 0.15296462 0.         0.         1.        ]\t[0.34459459 0.33613445 0.07079646 0.07189658 0.0595158  0.05134957\n",
      " 0.0533134  0.         1.         0.        ]\t[0.47297297 0.41176471 0.0840708  0.12378254 0.09414929 0.10138249\n",
      " 0.1180867  0.         1.         0.        ]\t[0.61486486 0.60504202 0.13274336 0.27465911 0.15870881 0.18564845\n",
      " 0.32735426 1.         0.         0.        ]\t[0.63513514 0.62184874 0.11061947 0.27129449 0.19704102 0.1961817\n",
      " 0.25759841 1.         0.         0.        ]\t[0.54054054 0.52941176 0.11061947 0.17974146 0.14492266 0.14746544\n",
      " 0.16292975 0.         0.         1.        ]\t[0.64189189 0.64705882 0.13274336 0.31609704 0.21082717 0.19815668\n",
      " 0.31738914 1.         0.         0.        ]\t 10 9\n",
      "[0.51351351 0.5210084  0.0840708  0.18133522 0.15030262 0.1323239\n",
      " 0.14798206 0.         0.         1.        ]\t[0.37162162 0.35294118 0.07964602 0.07915707 0.06624075 0.06319947\n",
      " 0.06826109 0.         0.         1.        ]\t[0.61486486 0.61344538 0.11946903 0.23906499 0.17182246 0.18564845\n",
      " 0.2077728  1.         0.         0.        ]\t[0.49324324 0.5210084  0.11061947 0.18204356 0.14425017 0.14944042\n",
      " 0.15296462 0.         0.         1.        ]\t[0.34459459 0.33613445 0.07079646 0.07189658 0.0595158  0.05134957\n",
      " 0.0533134  0.         1.         0.        ]\t[0.47297297 0.41176471 0.0840708  0.12378254 0.09414929 0.10138249\n",
      " 0.1180867  0.         1.         0.        ]\t[0.61486486 0.60504202 0.13274336 0.27465911 0.15870881 0.18564845\n",
      " 0.32735426 1.         0.         0.        ]\t[0.63513514 0.62184874 0.11061947 0.27129449 0.19704102 0.1961817\n",
      " 0.25759841 1.         0.         0.        ]\t[0.54054054 0.52941176 0.11061947 0.17974146 0.14492266 0.14746544\n",
      " 0.16292975 0.         0.         1.        ]\t[0.64189189 0.64705882 0.13274336 0.31609704 0.21082717 0.19815668\n",
      " 0.31738914 1.         0.         0.        ]\t 10 10\n",
      "[0.51351351 0.5210084  0.0840708  0.18133522 0.15030262 0.1323239\n",
      " 0.14798206 0.         0.         1.        ]\t[0.37162162 0.35294118 0.07964602 0.07915707 0.06624075 0.06319947\n",
      " 0.06826109 0.         0.         1.        ]\t[0.61486486 0.61344538 0.11946903 0.23906499 0.17182246 0.18564845\n",
      " 0.2077728  1.         0.         0.        ]\t[0.49324324 0.5210084  0.11061947 0.18204356 0.14425017 0.14944042\n",
      " 0.15296462 0.         0.         1.        ]\t[0.34459459 0.33613445 0.07079646 0.07189658 0.0595158  0.05134957\n",
      " 0.0533134  0.         1.         0.        ]\t[0.47297297 0.41176471 0.0840708  0.12378254 0.09414929 0.10138249\n",
      " 0.1180867  0.         1.         0.        ]\t[0.61486486 0.60504202 0.13274336 0.27465911 0.15870881 0.18564845\n",
      " 0.32735426 1.         0.         0.        ]\t[0.63513514 0.62184874 0.11061947 0.27129449 0.19704102 0.1961817\n",
      " 0.25759841 1.         0.         0.        ]\t[0.54054054 0.52941176 0.11061947 0.17974146 0.14492266 0.14746544\n",
      " 0.16292975 0.         0.         1.        ]\t[0.64189189 0.64705882 0.13274336 0.31609704 0.21082717 0.19815668\n",
      " 0.31738914 1.         0.         0.        ]\t 12 9\n",
      "[0.51351351 0.5210084  0.0840708  0.18133522 0.15030262 0.1323239\n",
      " 0.14798206 0.         0.         1.        ]\t[0.37162162 0.35294118 0.07964602 0.07915707 0.06624075 0.06319947\n",
      " 0.06826109 0.         0.         1.        ]\t[0.61486486 0.61344538 0.11946903 0.23906499 0.17182246 0.18564845\n",
      " 0.2077728  1.         0.         0.        ]\t[0.49324324 0.5210084  0.11061947 0.18204356 0.14425017 0.14944042\n",
      " 0.15296462 0.         0.         1.        ]\t[0.34459459 0.33613445 0.07079646 0.07189658 0.0595158  0.05134957\n",
      " 0.0533134  0.         1.         0.        ]\t[0.47297297 0.41176471 0.0840708  0.12378254 0.09414929 0.10138249\n",
      " 0.1180867  0.         1.         0.        ]\t[0.61486486 0.60504202 0.13274336 0.27465911 0.15870881 0.18564845\n",
      " 0.32735426 1.         0.         0.        ]\t[0.63513514 0.62184874 0.11061947 0.27129449 0.19704102 0.1961817\n",
      " 0.25759841 1.         0.         0.        ]\t[0.54054054 0.52941176 0.11061947 0.17974146 0.14492266 0.14746544\n",
      " 0.16292975 0.         0.         1.        ]\t[0.64189189 0.64705882 0.13274336 0.31609704 0.21082717 0.19815668\n",
      " 0.31738914 1.         0.         0.        ]\t 7 7\n",
      "[0.51351351 0.5210084  0.0840708  0.18133522 0.15030262 0.1323239\n",
      " 0.14798206 0.         0.         1.        ]\t[0.37162162 0.35294118 0.07964602 0.07915707 0.06624075 0.06319947\n",
      " 0.06826109 0.         0.         1.        ]\t[0.61486486 0.61344538 0.11946903 0.23906499 0.17182246 0.18564845\n",
      " 0.2077728  1.         0.         0.        ]\t[0.49324324 0.5210084  0.11061947 0.18204356 0.14425017 0.14944042\n",
      " 0.15296462 0.         0.         1.        ]\t[0.34459459 0.33613445 0.07079646 0.07189658 0.0595158  0.05134957\n",
      " 0.0533134  0.         1.         0.        ]\t[0.47297297 0.41176471 0.0840708  0.12378254 0.09414929 0.10138249\n",
      " 0.1180867  0.         1.         0.        ]\t[0.61486486 0.60504202 0.13274336 0.27465911 0.15870881 0.18564845\n",
      " 0.32735426 1.         0.         0.        ]\t[0.63513514 0.62184874 0.11061947 0.27129449 0.19704102 0.1961817\n",
      " 0.25759841 1.         0.         0.        ]\t[0.54054054 0.52941176 0.11061947 0.17974146 0.14492266 0.14746544\n",
      " 0.16292975 0.         0.         1.        ]\t[0.64189189 0.64705882 0.13274336 0.31609704 0.21082717 0.19815668\n",
      " 0.31738914 1.         0.         0.        ]\t 10 10\n",
      "[0.51351351 0.5210084  0.0840708  0.18133522 0.15030262 0.1323239\n",
      " 0.14798206 0.         0.         1.        ]\t[0.37162162 0.35294118 0.07964602 0.07915707 0.06624075 0.06319947\n",
      " 0.06826109 0.         0.         1.        ]\t[0.61486486 0.61344538 0.11946903 0.23906499 0.17182246 0.18564845\n",
      " 0.2077728  1.         0.         0.        ]\t[0.49324324 0.5210084  0.11061947 0.18204356 0.14425017 0.14944042\n",
      " 0.15296462 0.         0.         1.        ]\t[0.34459459 0.33613445 0.07079646 0.07189658 0.0595158  0.05134957\n",
      " 0.0533134  0.         1.         0.        ]\t[0.47297297 0.41176471 0.0840708  0.12378254 0.09414929 0.10138249\n",
      " 0.1180867  0.         1.         0.        ]\t[0.61486486 0.60504202 0.13274336 0.27465911 0.15870881 0.18564845\n",
      " 0.32735426 1.         0.         0.        ]\t[0.63513514 0.62184874 0.11061947 0.27129449 0.19704102 0.1961817\n",
      " 0.25759841 1.         0.         0.        ]\t[0.54054054 0.52941176 0.11061947 0.17974146 0.14492266 0.14746544\n",
      " 0.16292975 0.         0.         1.        ]\t[0.64189189 0.64705882 0.13274336 0.31609704 0.21082717 0.19815668\n",
      " 0.31738914 1.         0.         0.        ]\t 7 7\n"
     ]
    }
   ],
   "source": [
    "columns = ''\n",
    "\n",
    "for j in range(0, len(all_features.columns)):\n",
    "        columns += all_features.columns[j] + '\\t'\n",
    "        \n",
    "print(columns)\n",
    "\n",
    "for i in range(0, 19):\n",
    "    columns_val = ''\n",
    "    for j in range(0, len(all_features.columns)):\n",
    "        columns_val += \"{:.2f}\".format(abl_minmax[j])) + '\\t'\n",
    "        \n",
    "    print(columns_val, target[i], y_pred[i])"
   ]
  },
  {
   "cell_type": "code",
   "execution_count": 40,
   "metadata": {},
   "outputs": [
    {
     "data": {
      "text/plain": [
       "0     15\n",
       "1      7\n",
       "2      9\n",
       "3     10\n",
       "4      7\n",
       "5      8\n",
       "6     20\n",
       "7     16\n",
       "8      9\n",
       "9     19\n",
       "10    14\n",
       "11    10\n",
       "12    11\n",
       "13    10\n",
       "14    10\n",
       "15    12\n",
       "16     7\n",
       "17    10\n",
       "18     7\n",
       "19     9\n",
       "Name: Rings, dtype: int64"
      ]
     },
     "execution_count": 40,
     "metadata": {},
     "output_type": "execute_result"
    }
   ],
   "source": [
    "target[:20]"
   ]
  },
  {
   "cell_type": "code",
   "execution_count": null,
   "metadata": {},
   "outputs": [],
   "source": []
  }
 ],
 "metadata": {
  "kernelspec": {
   "display_name": "Python 3",
   "language": "python",
   "name": "python3"
  },
  "language_info": {
   "codemirror_mode": {
    "name": "ipython",
    "version": 3
   },
   "file_extension": ".py",
   "mimetype": "text/x-python",
   "name": "python",
   "nbconvert_exporter": "python",
   "pygments_lexer": "ipython3",
   "version": "3.6.7"
  }
 },
 "nbformat": 4,
 "nbformat_minor": 2
}
